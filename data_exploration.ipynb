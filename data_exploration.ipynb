{
 "cells": [
  {
   "metadata": {
    "ExecuteTime": {
     "end_time": "2025-03-29T08:51:50.826907Z",
     "start_time": "2025-03-29T08:51:50.819687Z"
    }
   },
   "cell_type": "code",
   "source": [
    "import pandas as pd\n",
    "import matplotlib.pyplot as plt"
   ],
   "id": "651ea3f5846ab622",
   "outputs": [],
   "execution_count": 6
  },
  {
   "metadata": {
    "ExecuteTime": {
     "end_time": "2025-03-29T08:51:51.345483Z",
     "start_time": "2025-03-29T08:51:51.087327Z"
    }
   },
   "cell_type": "code",
   "source": [
    "# Load the CSV file into a DataFrame\n",
    "prices = pd.read_csv('prices_insample.csv', parse_dates=True)"
   ],
   "id": "initial_id",
   "outputs": [],
   "execution_count": 7
  },
  {
   "metadata": {
    "ExecuteTime": {
     "end_time": "2025-03-29T08:51:51.815833Z",
     "start_time": "2025-03-29T08:51:51.809329Z"
    }
   },
   "cell_type": "code",
   "source": [
    "# Display the first few rows of the DataFrame\n",
    "print(\"First few rows of the DataFrame:\")\n",
    "print(prices.head())"
   ],
   "id": "4517ee6c6ea78ab2",
   "outputs": [
    {
     "name": "stdout",
     "output_type": "stream",
     "text": [
      "First few rows of the DataFrame:\n",
      "   Unnamed: 0      ganymede_bonds    ganymede_bonds.1    ganymede_bonds.2  \\\n",
      "0         NaN                Open                High                 Low   \n",
      "1    AsOfDate                 NaN                 NaN                 NaN   \n",
      "2  1995-01-02  1.1009175673388463  1.1009175673388463  1.0920968282090522   \n",
      "3  1995-01-03  1.1009175673388463  1.1009175673388463  1.0920968282090522   \n",
      "4  1995-01-04  1.0891938001410186  1.0961164055340216  1.0891938001410186   \n",
      "\n",
      "     ganymede_bonds.3     ganymede_stocks   ganymede_stocks.1  \\\n",
      "0               Close                Open                High   \n",
      "1                 NaN                 NaN                 NaN   \n",
      "2  1.0922084831347458  2.3280253366406805  2.3280253366406805   \n",
      "3  1.0922084831347458  2.3280253366406805  2.3280253366406805   \n",
      "4   1.096004750608328   2.315235205527994   2.315235205527994   \n",
      "\n",
      "    ganymede_stocks.2   ganymede_stocks.3   ganymede_titan_fx  ...  \\\n",
      "0                 Low               Close                Open  ...   \n",
      "1                 NaN                 NaN                 NaN  ...   \n",
      "2  2.3136295180722892  2.3176548104181434  0.9382180719954017  ...   \n",
      "3  2.3136295180722892  2.3176548104181434  0.9382180719954017  ...   \n",
      "4  2.2953579021970234  2.3003023121899364  0.9325740628885464  ...   \n",
      "\n",
      "  refined_americium.2 refined_americium.3          beryllium  \\\n",
      "0                 Low                Open              Close   \n",
      "1                 NaN                 NaN                NaN   \n",
      "2  1.1606479473572524  1.1622100576497925  14.85667572285881   \n",
      "3  1.1606479473572524  1.1622100576497925  14.85667572285881   \n",
      "4  1.1606479473572524  1.1622100576497925  14.85667572285881   \n",
      "\n",
      "          beryllium.1        beryllium.2         beryllium.3  \\\n",
      "0                High                Low                Open   \n",
      "1                 NaN                NaN                 NaN   \n",
      "2  14.973218540602927  14.84147448576175  14.887078197052928   \n",
      "3  14.973218540602927  14.84147448576175  14.887078197052928   \n",
      "4  14.973218540602927  14.84147448576175  14.887078197052928   \n",
      "\n",
      "  beryllium_monofilaments beryllium_monofilaments.1 beryllium_monofilaments.2  \\\n",
      "0                   Close                      High                       Low   \n",
      "1                     NaN                       NaN                       NaN   \n",
      "2       14.85667572285881        14.973218540602927         14.84147448576175   \n",
      "3       14.85667572285881        14.973218540602927         14.84147448576175   \n",
      "4       14.85667572285881        14.973218540602927         14.84147448576175   \n",
      "\n",
      "  beryllium_monofilaments.3  \n",
      "0                      Open  \n",
      "1                       NaN  \n",
      "2        14.887078197052928  \n",
      "3        14.887078197052928  \n",
      "4        14.887078197052928  \n",
      "\n",
      "[5 rows x 109 columns]\n"
     ]
    }
   ],
   "execution_count": 8
  },
  {
   "metadata": {
    "ExecuteTime": {
     "end_time": "2025-03-29T08:51:53.024966Z",
     "start_time": "2025-03-29T08:51:52.721107Z"
    }
   },
   "cell_type": "code",
   "source": [
    "# Get a summary of the DataFrame\n",
    "print(\"\\nSummary of the DataFrame:\")\n",
    "print(prices.describe())"
   ],
   "id": "262c32afb2de8091",
   "outputs": [
    {
     "name": "stdout",
     "output_type": "stream",
     "text": [
      "\n",
      "Summary of the DataFrame:\n",
      "       Unnamed: 0      ganymede_bonds    ganymede_bonds.1    ganymede_bonds.2  \\\n",
      "count        5444                5444                5444                5444   \n",
      "unique       5444                4705                4659                4652   \n",
      "top      AsOfDate  1.8584659900653517  2.1863081726740408  1.4121725039252324   \n",
      "freq            1                   5                   8                   6   \n",
      "\n",
      "          ganymede_bonds.3    ganymede_stocks  ganymede_stocks.1  \\\n",
      "count                 5444               5444               5444   \n",
      "unique                4758               5240               5201   \n",
      "top     1.5175138007155984  7.414184310772502  7.472243754429483   \n",
      "freq                     5                  3                  3   \n",
      "\n",
      "        ganymede_stocks.2  ganymede_stocks.3   ganymede_titan_fx  ...  \\\n",
      "count                5444               5444                5444  ...   \n",
      "unique               5182               5263                4735  ...   \n",
      "top     5.483018470942594  7.446608123671155  0.9732085872722357  ...   \n",
      "freq                    3                  3                   4  ...   \n",
      "\n",
      "       refined_americium.2 refined_americium.3          beryllium  \\\n",
      "count                 5444                5444               5444   \n",
      "unique                5222                5222               5441   \n",
      "top     1.1606479473572524  1.1622100576497925  14.85667572285881   \n",
      "freq                     4                   4                  4   \n",
      "\n",
      "               beryllium.1        beryllium.2         beryllium.3  \\\n",
      "count                 5444               5444                5444   \n",
      "unique                5208               5208                5208   \n",
      "top     14.973218540602927  14.84147448576175  14.887078197052928   \n",
      "freq                     4                  4                   4   \n",
      "\n",
      "       beryllium_monofilaments beryllium_monofilaments.1  \\\n",
      "count                     5444                      5444   \n",
      "unique                    5441                      5208   \n",
      "top          14.85667572285881        14.973218540602927   \n",
      "freq                         4                         4   \n",
      "\n",
      "       beryllium_monofilaments.2 beryllium_monofilaments.3  \n",
      "count                       5444                      5444  \n",
      "unique                      5208                      5208  \n",
      "top            14.84147448576175        14.887078197052928  \n",
      "freq                           4                         4  \n",
      "\n",
      "[4 rows x 109 columns]\n"
     ]
    }
   ],
   "execution_count": 9
  },
  {
   "metadata": {
    "ExecuteTime": {
     "end_time": "2025-03-29T08:51:57.051995Z",
     "start_time": "2025-03-29T08:51:56.991172Z"
    }
   },
   "cell_type": "code",
   "source": [
    "# Check for missing values\n",
    "print(\"\\nMissing values per column:\")\n",
    "print(prices.isna().sum())"
   ],
   "id": "52558c1c7c14e9",
   "outputs": [
    {
     "name": "stdout",
     "output_type": "stream",
     "text": [
      "\n",
      "Missing values per column:\n",
      "Unnamed: 0                   1\n",
      "ganymede_bonds               1\n",
      "ganymede_bonds.1             1\n",
      "ganymede_bonds.2             1\n",
      "ganymede_bonds.3             1\n",
      "                            ..\n",
      "beryllium.3                  1\n",
      "beryllium_monofilaments      1\n",
      "beryllium_monofilaments.1    1\n",
      "beryllium_monofilaments.2    1\n",
      "beryllium_monofilaments.3    1\n",
      "Length: 109, dtype: int64\n"
     ]
    }
   ],
   "execution_count": 10
  },
  {
   "metadata": {
    "ExecuteTime": {
     "end_time": "2025-03-29T08:52:18.873450Z",
     "start_time": "2025-03-29T08:52:18.673877Z"
    }
   },
   "cell_type": "code",
   "source": [
    "# Plot the data to visualize trends and patterns\n",
    "plt.figure(figsize=(15, 7))\n",
    "for column in prices.columns:\n",
    "    plt.plot(prices.index, prices[column], label=column)\n",
    "plt.title('Price Trends')\n",
    "plt.xlabel('Date')\n",
    "plt.ylabel('Price')\n",
    "plt.legend()\n",
    "plt.show()"
   ],
   "id": "7224cb57749bac0b",
   "outputs": [
    {
     "ename": "TypeError",
     "evalue": "'value' must be an instance of str or bytes, not a float",
     "output_type": "error",
     "traceback": [
      "\u001B[0;31m---------------------------------------------------------------------------\u001B[0m",
      "\u001B[0;31mTypeError\u001B[0m                                 Traceback (most recent call last)",
      "Cell \u001B[0;32mIn[11], line 4\u001B[0m\n\u001B[1;32m      2\u001B[0m plt\u001B[38;5;241m.\u001B[39mfigure(figsize\u001B[38;5;241m=\u001B[39m(\u001B[38;5;241m15\u001B[39m, \u001B[38;5;241m7\u001B[39m))\n\u001B[1;32m      3\u001B[0m \u001B[38;5;28;01mfor\u001B[39;00m column \u001B[38;5;129;01min\u001B[39;00m prices\u001B[38;5;241m.\u001B[39mcolumns:\n\u001B[0;32m----> 4\u001B[0m     \u001B[43mplt\u001B[49m\u001B[38;5;241;43m.\u001B[39;49m\u001B[43mplot\u001B[49m\u001B[43m(\u001B[49m\u001B[43mprices\u001B[49m\u001B[38;5;241;43m.\u001B[39;49m\u001B[43mindex\u001B[49m\u001B[43m,\u001B[49m\u001B[43m \u001B[49m\u001B[43mprices\u001B[49m\u001B[43m[\u001B[49m\u001B[43mcolumn\u001B[49m\u001B[43m]\u001B[49m\u001B[43m,\u001B[49m\u001B[43m \u001B[49m\u001B[43mlabel\u001B[49m\u001B[38;5;241;43m=\u001B[39;49m\u001B[43mcolumn\u001B[49m\u001B[43m)\u001B[49m\n\u001B[1;32m      5\u001B[0m plt\u001B[38;5;241m.\u001B[39mtitle(\u001B[38;5;124m'\u001B[39m\u001B[38;5;124mPrice Trends\u001B[39m\u001B[38;5;124m'\u001B[39m)\n\u001B[1;32m      6\u001B[0m plt\u001B[38;5;241m.\u001B[39mxlabel(\u001B[38;5;124m'\u001B[39m\u001B[38;5;124mDate\u001B[39m\u001B[38;5;124m'\u001B[39m)\n",
      "File \u001B[0;32m~/Documents/Hackathon/lynx_code/env/lib/python3.9/site-packages/matplotlib/pyplot.py:3794\u001B[0m, in \u001B[0;36mplot\u001B[0;34m(scalex, scaley, data, *args, **kwargs)\u001B[0m\n\u001B[1;32m   3786\u001B[0m \u001B[38;5;129m@_copy_docstring_and_deprecators\u001B[39m(Axes\u001B[38;5;241m.\u001B[39mplot)\n\u001B[1;32m   3787\u001B[0m \u001B[38;5;28;01mdef\u001B[39;00m\u001B[38;5;250m \u001B[39m\u001B[38;5;21mplot\u001B[39m(\n\u001B[1;32m   3788\u001B[0m     \u001B[38;5;241m*\u001B[39margs: \u001B[38;5;28mfloat\u001B[39m \u001B[38;5;241m|\u001B[39m ArrayLike \u001B[38;5;241m|\u001B[39m \u001B[38;5;28mstr\u001B[39m,\n\u001B[0;32m   (...)\u001B[0m\n\u001B[1;32m   3792\u001B[0m     \u001B[38;5;241m*\u001B[39m\u001B[38;5;241m*\u001B[39mkwargs,\n\u001B[1;32m   3793\u001B[0m ) \u001B[38;5;241m-\u001B[39m\u001B[38;5;241m>\u001B[39m \u001B[38;5;28mlist\u001B[39m[Line2D]:\n\u001B[0;32m-> 3794\u001B[0m     \u001B[38;5;28;01mreturn\u001B[39;00m \u001B[43mgca\u001B[49m\u001B[43m(\u001B[49m\u001B[43m)\u001B[49m\u001B[38;5;241;43m.\u001B[39;49m\u001B[43mplot\u001B[49m\u001B[43m(\u001B[49m\n\u001B[1;32m   3795\u001B[0m \u001B[43m        \u001B[49m\u001B[38;5;241;43m*\u001B[39;49m\u001B[43margs\u001B[49m\u001B[43m,\u001B[49m\n\u001B[1;32m   3796\u001B[0m \u001B[43m        \u001B[49m\u001B[43mscalex\u001B[49m\u001B[38;5;241;43m=\u001B[39;49m\u001B[43mscalex\u001B[49m\u001B[43m,\u001B[49m\n\u001B[1;32m   3797\u001B[0m \u001B[43m        \u001B[49m\u001B[43mscaley\u001B[49m\u001B[38;5;241;43m=\u001B[39;49m\u001B[43mscaley\u001B[49m\u001B[43m,\u001B[49m\n\u001B[1;32m   3798\u001B[0m \u001B[43m        \u001B[49m\u001B[38;5;241;43m*\u001B[39;49m\u001B[38;5;241;43m*\u001B[39;49m\u001B[43m(\u001B[49m\u001B[43m{\u001B[49m\u001B[38;5;124;43m\"\u001B[39;49m\u001B[38;5;124;43mdata\u001B[39;49m\u001B[38;5;124;43m\"\u001B[39;49m\u001B[43m:\u001B[49m\u001B[43m \u001B[49m\u001B[43mdata\u001B[49m\u001B[43m}\u001B[49m\u001B[43m \u001B[49m\u001B[38;5;28;43;01mif\u001B[39;49;00m\u001B[43m \u001B[49m\u001B[43mdata\u001B[49m\u001B[43m \u001B[49m\u001B[38;5;129;43;01mis\u001B[39;49;00m\u001B[43m \u001B[49m\u001B[38;5;129;43;01mnot\u001B[39;49;00m\u001B[43m \u001B[49m\u001B[38;5;28;43;01mNone\u001B[39;49;00m\u001B[43m \u001B[49m\u001B[38;5;28;43;01melse\u001B[39;49;00m\u001B[43m \u001B[49m\u001B[43m{\u001B[49m\u001B[43m}\u001B[49m\u001B[43m)\u001B[49m\u001B[43m,\u001B[49m\n\u001B[1;32m   3799\u001B[0m \u001B[43m        \u001B[49m\u001B[38;5;241;43m*\u001B[39;49m\u001B[38;5;241;43m*\u001B[39;49m\u001B[43mkwargs\u001B[49m\u001B[43m,\u001B[49m\n\u001B[1;32m   3800\u001B[0m \u001B[43m    \u001B[49m\u001B[43m)\u001B[49m\n",
      "File \u001B[0;32m~/Documents/Hackathon/lynx_code/env/lib/python3.9/site-packages/matplotlib/axes/_axes.py:1779\u001B[0m, in \u001B[0;36mAxes.plot\u001B[0;34m(self, scalex, scaley, data, *args, **kwargs)\u001B[0m\n\u001B[1;32m   1536\u001B[0m \u001B[38;5;250m\u001B[39m\u001B[38;5;124;03m\"\"\"\u001B[39;00m\n\u001B[1;32m   1537\u001B[0m \u001B[38;5;124;03mPlot y versus x as lines and/or markers.\u001B[39;00m\n\u001B[1;32m   1538\u001B[0m \n\u001B[0;32m   (...)\u001B[0m\n\u001B[1;32m   1776\u001B[0m \u001B[38;5;124;03m(``'green'``) or hex strings (``'#008000'``).\u001B[39;00m\n\u001B[1;32m   1777\u001B[0m \u001B[38;5;124;03m\"\"\"\u001B[39;00m\n\u001B[1;32m   1778\u001B[0m kwargs \u001B[38;5;241m=\u001B[39m cbook\u001B[38;5;241m.\u001B[39mnormalize_kwargs(kwargs, mlines\u001B[38;5;241m.\u001B[39mLine2D)\n\u001B[0;32m-> 1779\u001B[0m lines \u001B[38;5;241m=\u001B[39m [\u001B[38;5;241m*\u001B[39m\u001B[38;5;28mself\u001B[39m\u001B[38;5;241m.\u001B[39m_get_lines(\u001B[38;5;28mself\u001B[39m, \u001B[38;5;241m*\u001B[39margs, data\u001B[38;5;241m=\u001B[39mdata, \u001B[38;5;241m*\u001B[39m\u001B[38;5;241m*\u001B[39mkwargs)]\n\u001B[1;32m   1780\u001B[0m \u001B[38;5;28;01mfor\u001B[39;00m line \u001B[38;5;129;01min\u001B[39;00m lines:\n\u001B[1;32m   1781\u001B[0m     \u001B[38;5;28mself\u001B[39m\u001B[38;5;241m.\u001B[39madd_line(line)\n",
      "File \u001B[0;32m~/Documents/Hackathon/lynx_code/env/lib/python3.9/site-packages/matplotlib/axes/_base.py:296\u001B[0m, in \u001B[0;36m_process_plot_var_args.__call__\u001B[0;34m(self, axes, data, *args, **kwargs)\u001B[0m\n\u001B[1;32m    294\u001B[0m     this \u001B[38;5;241m+\u001B[39m\u001B[38;5;241m=\u001B[39m args[\u001B[38;5;241m0\u001B[39m],\n\u001B[1;32m    295\u001B[0m     args \u001B[38;5;241m=\u001B[39m args[\u001B[38;5;241m1\u001B[39m:]\n\u001B[0;32m--> 296\u001B[0m \u001B[38;5;28;01myield from\u001B[39;00m \u001B[38;5;28;43mself\u001B[39;49m\u001B[38;5;241;43m.\u001B[39;49m\u001B[43m_plot_args\u001B[49m\u001B[43m(\u001B[49m\n\u001B[1;32m    297\u001B[0m \u001B[43m    \u001B[49m\u001B[43maxes\u001B[49m\u001B[43m,\u001B[49m\u001B[43m \u001B[49m\u001B[43mthis\u001B[49m\u001B[43m,\u001B[49m\u001B[43m \u001B[49m\u001B[43mkwargs\u001B[49m\u001B[43m,\u001B[49m\u001B[43m \u001B[49m\u001B[43mambiguous_fmt_datakey\u001B[49m\u001B[38;5;241;43m=\u001B[39;49m\u001B[43mambiguous_fmt_datakey\u001B[49m\u001B[43m)\u001B[49m\n",
      "File \u001B[0;32m~/Documents/Hackathon/lynx_code/env/lib/python3.9/site-packages/matplotlib/axes/_base.py:483\u001B[0m, in \u001B[0;36m_process_plot_var_args._plot_args\u001B[0;34m(self, axes, tup, kwargs, return_kwargs, ambiguous_fmt_datakey)\u001B[0m\n\u001B[1;32m    481\u001B[0m     axes\u001B[38;5;241m.\u001B[39mxaxis\u001B[38;5;241m.\u001B[39mupdate_units(x)\n\u001B[1;32m    482\u001B[0m \u001B[38;5;28;01mif\u001B[39;00m axes\u001B[38;5;241m.\u001B[39myaxis \u001B[38;5;129;01mis\u001B[39;00m \u001B[38;5;129;01mnot\u001B[39;00m \u001B[38;5;28;01mNone\u001B[39;00m:\n\u001B[0;32m--> 483\u001B[0m     \u001B[43maxes\u001B[49m\u001B[38;5;241;43m.\u001B[39;49m\u001B[43myaxis\u001B[49m\u001B[38;5;241;43m.\u001B[39;49m\u001B[43mupdate_units\u001B[49m\u001B[43m(\u001B[49m\u001B[43my\u001B[49m\u001B[43m)\u001B[49m\n\u001B[1;32m    485\u001B[0m \u001B[38;5;28;01mif\u001B[39;00m x\u001B[38;5;241m.\u001B[39mshape[\u001B[38;5;241m0\u001B[39m] \u001B[38;5;241m!=\u001B[39m y\u001B[38;5;241m.\u001B[39mshape[\u001B[38;5;241m0\u001B[39m]:\n\u001B[1;32m    486\u001B[0m     \u001B[38;5;28;01mraise\u001B[39;00m \u001B[38;5;167;01mValueError\u001B[39;00m(\u001B[38;5;124mf\u001B[39m\u001B[38;5;124m\"\u001B[39m\u001B[38;5;124mx and y must have same first dimension, but \u001B[39m\u001B[38;5;124m\"\u001B[39m\n\u001B[1;32m    487\u001B[0m                      \u001B[38;5;124mf\u001B[39m\u001B[38;5;124m\"\u001B[39m\u001B[38;5;124mhave shapes \u001B[39m\u001B[38;5;132;01m{\u001B[39;00mx\u001B[38;5;241m.\u001B[39mshape\u001B[38;5;132;01m}\u001B[39;00m\u001B[38;5;124m and \u001B[39m\u001B[38;5;132;01m{\u001B[39;00my\u001B[38;5;241m.\u001B[39mshape\u001B[38;5;132;01m}\u001B[39;00m\u001B[38;5;124m\"\u001B[39m)\n",
      "File \u001B[0;32m~/Documents/Hackathon/lynx_code/env/lib/python3.9/site-packages/matplotlib/axis.py:1756\u001B[0m, in \u001B[0;36mAxis.update_units\u001B[0;34m(self, data)\u001B[0m\n\u001B[1;32m   1754\u001B[0m neednew \u001B[38;5;241m=\u001B[39m \u001B[38;5;28mself\u001B[39m\u001B[38;5;241m.\u001B[39mconverter \u001B[38;5;241m!=\u001B[39m converter\n\u001B[1;32m   1755\u001B[0m \u001B[38;5;28mself\u001B[39m\u001B[38;5;241m.\u001B[39mconverter \u001B[38;5;241m=\u001B[39m converter\n\u001B[0;32m-> 1756\u001B[0m default \u001B[38;5;241m=\u001B[39m \u001B[38;5;28;43mself\u001B[39;49m\u001B[38;5;241;43m.\u001B[39;49m\u001B[43mconverter\u001B[49m\u001B[38;5;241;43m.\u001B[39;49m\u001B[43mdefault_units\u001B[49m\u001B[43m(\u001B[49m\u001B[43mdata\u001B[49m\u001B[43m,\u001B[49m\u001B[43m \u001B[49m\u001B[38;5;28;43mself\u001B[39;49m\u001B[43m)\u001B[49m\n\u001B[1;32m   1757\u001B[0m \u001B[38;5;28;01mif\u001B[39;00m default \u001B[38;5;129;01mis\u001B[39;00m \u001B[38;5;129;01mnot\u001B[39;00m \u001B[38;5;28;01mNone\u001B[39;00m \u001B[38;5;129;01mand\u001B[39;00m \u001B[38;5;28mself\u001B[39m\u001B[38;5;241m.\u001B[39munits \u001B[38;5;129;01mis\u001B[39;00m \u001B[38;5;28;01mNone\u001B[39;00m:\n\u001B[1;32m   1758\u001B[0m     \u001B[38;5;28mself\u001B[39m\u001B[38;5;241m.\u001B[39mset_units(default)\n",
      "File \u001B[0;32m~/Documents/Hackathon/lynx_code/env/lib/python3.9/site-packages/matplotlib/category.py:105\u001B[0m, in \u001B[0;36mStrCategoryConverter.default_units\u001B[0;34m(data, axis)\u001B[0m\n\u001B[1;32m    103\u001B[0m \u001B[38;5;66;03m# the conversion call stack is default_units -> axis_info -> convert\u001B[39;00m\n\u001B[1;32m    104\u001B[0m \u001B[38;5;28;01mif\u001B[39;00m axis\u001B[38;5;241m.\u001B[39munits \u001B[38;5;129;01mis\u001B[39;00m \u001B[38;5;28;01mNone\u001B[39;00m:\n\u001B[0;32m--> 105\u001B[0m     axis\u001B[38;5;241m.\u001B[39mset_units(\u001B[43mUnitData\u001B[49m\u001B[43m(\u001B[49m\u001B[43mdata\u001B[49m\u001B[43m)\u001B[49m)\n\u001B[1;32m    106\u001B[0m \u001B[38;5;28;01melse\u001B[39;00m:\n\u001B[1;32m    107\u001B[0m     axis\u001B[38;5;241m.\u001B[39munits\u001B[38;5;241m.\u001B[39mupdate(data)\n",
      "File \u001B[0;32m~/Documents/Hackathon/lynx_code/env/lib/python3.9/site-packages/matplotlib/category.py:181\u001B[0m, in \u001B[0;36mUnitData.__init__\u001B[0;34m(self, data)\u001B[0m\n\u001B[1;32m    179\u001B[0m \u001B[38;5;28mself\u001B[39m\u001B[38;5;241m.\u001B[39m_counter \u001B[38;5;241m=\u001B[39m itertools\u001B[38;5;241m.\u001B[39mcount()\n\u001B[1;32m    180\u001B[0m \u001B[38;5;28;01mif\u001B[39;00m data \u001B[38;5;129;01mis\u001B[39;00m \u001B[38;5;129;01mnot\u001B[39;00m \u001B[38;5;28;01mNone\u001B[39;00m:\n\u001B[0;32m--> 181\u001B[0m     \u001B[38;5;28;43mself\u001B[39;49m\u001B[38;5;241;43m.\u001B[39;49m\u001B[43mupdate\u001B[49m\u001B[43m(\u001B[49m\u001B[43mdata\u001B[49m\u001B[43m)\u001B[49m\n",
      "File \u001B[0;32m~/Documents/Hackathon/lynx_code/env/lib/python3.9/site-packages/matplotlib/category.py:216\u001B[0m, in \u001B[0;36mUnitData.update\u001B[0;34m(self, data)\u001B[0m\n\u001B[1;32m    213\u001B[0m convertible \u001B[38;5;241m=\u001B[39m \u001B[38;5;28;01mTrue\u001B[39;00m\n\u001B[1;32m    214\u001B[0m \u001B[38;5;28;01mfor\u001B[39;00m val \u001B[38;5;129;01min\u001B[39;00m OrderedDict\u001B[38;5;241m.\u001B[39mfromkeys(data):\n\u001B[1;32m    215\u001B[0m     \u001B[38;5;66;03m# OrderedDict just iterates over unique values in data.\u001B[39;00m\n\u001B[0;32m--> 216\u001B[0m     \u001B[43m_api\u001B[49m\u001B[38;5;241;43m.\u001B[39;49m\u001B[43mcheck_isinstance\u001B[49m\u001B[43m(\u001B[49m\u001B[43m(\u001B[49m\u001B[38;5;28;43mstr\u001B[39;49m\u001B[43m,\u001B[49m\u001B[43m \u001B[49m\u001B[38;5;28;43mbytes\u001B[39;49m\u001B[43m)\u001B[49m\u001B[43m,\u001B[49m\u001B[43m \u001B[49m\u001B[43mvalue\u001B[49m\u001B[38;5;241;43m=\u001B[39;49m\u001B[43mval\u001B[49m\u001B[43m)\u001B[49m\n\u001B[1;32m    217\u001B[0m     \u001B[38;5;28;01mif\u001B[39;00m convertible:\n\u001B[1;32m    218\u001B[0m         \u001B[38;5;66;03m# this will only be called so long as convertible is True.\u001B[39;00m\n\u001B[1;32m    219\u001B[0m         convertible \u001B[38;5;241m=\u001B[39m \u001B[38;5;28mself\u001B[39m\u001B[38;5;241m.\u001B[39m_str_is_convertible(val)\n",
      "File \u001B[0;32m~/Documents/Hackathon/lynx_code/env/lib/python3.9/site-packages/matplotlib/_api/__init__.py:91\u001B[0m, in \u001B[0;36mcheck_isinstance\u001B[0;34m(types, **kwargs)\u001B[0m\n\u001B[1;32m     89\u001B[0m     names\u001B[38;5;241m.\u001B[39mremove(\u001B[38;5;124m\"\u001B[39m\u001B[38;5;124mNone\u001B[39m\u001B[38;5;124m\"\u001B[39m)\n\u001B[1;32m     90\u001B[0m     names\u001B[38;5;241m.\u001B[39mappend(\u001B[38;5;124m\"\u001B[39m\u001B[38;5;124mNone\u001B[39m\u001B[38;5;124m\"\u001B[39m)\n\u001B[0;32m---> 91\u001B[0m \u001B[38;5;28;01mraise\u001B[39;00m \u001B[38;5;167;01mTypeError\u001B[39;00m(\n\u001B[1;32m     92\u001B[0m     \u001B[38;5;124m\"\u001B[39m\u001B[38;5;132;01m{!r}\u001B[39;00m\u001B[38;5;124m must be an instance of \u001B[39m\u001B[38;5;132;01m{}\u001B[39;00m\u001B[38;5;124m, not a \u001B[39m\u001B[38;5;132;01m{}\u001B[39;00m\u001B[38;5;124m\"\u001B[39m\u001B[38;5;241m.\u001B[39mformat(\n\u001B[1;32m     93\u001B[0m         k,\n\u001B[1;32m     94\u001B[0m         \u001B[38;5;124m\"\u001B[39m\u001B[38;5;124m, \u001B[39m\u001B[38;5;124m\"\u001B[39m\u001B[38;5;241m.\u001B[39mjoin(names[:\u001B[38;5;241m-\u001B[39m\u001B[38;5;241m1\u001B[39m]) \u001B[38;5;241m+\u001B[39m \u001B[38;5;124m\"\u001B[39m\u001B[38;5;124m or \u001B[39m\u001B[38;5;124m\"\u001B[39m \u001B[38;5;241m+\u001B[39m names[\u001B[38;5;241m-\u001B[39m\u001B[38;5;241m1\u001B[39m]\n\u001B[1;32m     95\u001B[0m         \u001B[38;5;28;01mif\u001B[39;00m \u001B[38;5;28mlen\u001B[39m(names) \u001B[38;5;241m>\u001B[39m \u001B[38;5;241m1\u001B[39m \u001B[38;5;28;01melse\u001B[39;00m names[\u001B[38;5;241m0\u001B[39m],\n\u001B[1;32m     96\u001B[0m         type_name(\u001B[38;5;28mtype\u001B[39m(v))))\n",
      "\u001B[0;31mTypeError\u001B[0m: 'value' must be an instance of str or bytes, not a float"
     ]
    },
    {
     "data": {
      "text/plain": [
       "<Figure size 1500x700 with 1 Axes>"
      ],
      "image/png": "[encoded data removed]"
     },
     "metadata": {},
     "output_type": "display_data"
    }
   ],
   "execution_count": 11
  },
  {
   "metadata": {},
   "cell_type": "code",
   "outputs": [],
   "execution_count": null,
   "source": "",
   "id": "2f4a824f1995023f"
  }
 ],
 "metadata": {
  "kernelspec": {
   "display_name": "Python 3",
   "language": "python",
   "name": "python3"
  },
  "language_info": {
   "codemirror_mode": {
    "name": "ipython",
    "version": 2
   },
   "file_extension": ".py",
   "mimetype": "text/x-python",
   "name": "python",
   "nbconvert_exporter": "python",
   "pygments_lexer": "ipython2",
   "version": "2.7.6"
  }
 },
 "nbformat": 4,
 "nbformat_minor": 5
}
